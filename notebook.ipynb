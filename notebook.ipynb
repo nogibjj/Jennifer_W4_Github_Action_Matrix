{
 "cells": [
  {
   "cell_type": "code",
   "execution_count": 48,
   "metadata": {},
   "outputs": [
    {
     "name": "stdout",
     "output_type": "stream",
     "text": [
      "<bound method DataFrame.head of shape: (187, 14)\n",
      "┌─────┬─────┬─────┬─────┬─────┬─────┬─────┬───────┬────────┬───────┬───────┬───────┬───────┬───────┐\n",
      "│ Fis ┆ Job ┆ Job ┆ App ┆ Fem ┆ Mal ┆ Unk ┆ Black ┆ Hispan ┆ Asian ┆ Cauca ┆ Ameri ┆ Filip ┆ Unkno │\n",
      "│ cal ┆ Num ┆ Des ┆ s   ┆ ale ┆ e   ┆ now ┆ ---   ┆ ic     ┆ ---   ┆ sian  ┆ can   ┆ ino   ┆ wn_Et │\n",
      "│ Yea ┆ ber ┆ cri ┆ Rec ┆ --- ┆ --- ┆ n_G ┆ i64   ┆ ---    ┆ i64   ┆ ---   ┆ India ┆ ---   ┆ hnici │\n",
      "│ r   ┆ --- ┆ pti ┆ eiv ┆ i64 ┆ i64 ┆ end ┆       ┆ i64    ┆       ┆ i64   ┆ n/    ┆ i64   ┆ ty    │\n",
      "│ --- ┆ str ┆ on  ┆ ed  ┆     ┆     ┆ er  ┆       ┆        ┆       ┆       ┆ Alask ┆       ┆ ---   │\n",
      "│ str ┆     ┆ --- ┆ --- ┆     ┆     ┆ --- ┆       ┆        ┆       ┆       ┆ an    ┆       ┆ i64   │\n",
      "│     ┆     ┆ str ┆ i64 ┆     ┆     ┆ i64 ┆       ┆        ┆       ┆       ┆ Nativ ┆       ┆       │\n",
      "│     ┆     ┆     ┆     ┆     ┆     ┆     ┆       ┆        ┆       ┆       ┆ …     ┆       ┆       │\n",
      "│     ┆     ┆     ┆     ┆     ┆     ┆     ┆       ┆        ┆       ┆       ┆ ---   ┆       ┆       │\n",
      "│     ┆     ┆     ┆     ┆     ┆     ┆     ┆       ┆        ┆       ┆       ┆ i64   ┆       ┆       │\n",
      "╞═════╪═════╪═════╪═════╪═════╪═════╪═════╪═══════╪════════╪═══════╪═══════╪═══════╪═══════╪═══════╡\n",
      "│ 201 ┆ 920 ┆ 311 ┆ 54  ┆ 20  ┆ 31  ┆ 3   ┆ 25    ┆ 18     ┆ 1     ┆ 6     ┆ 0     ┆ 0     ┆ 4     │\n",
      "│ 3-2 ┆ 6   ┆ DIR ┆     ┆     ┆     ┆     ┆       ┆        ┆       ┆       ┆       ┆       ┆       │\n",
      "│ 014 ┆ OP  ┆ ECT ┆     ┆     ┆     ┆     ┆       ┆        ┆       ┆       ┆       ┆       ┆       │\n",
      "│     ┆ 201 ┆ OR  ┆     ┆     ┆     ┆     ┆       ┆        ┆       ┆       ┆       ┆       ┆       │\n",
      "│     ┆ 4/0 ┆ 920 ┆     ┆     ┆     ┆     ┆       ┆        ┆       ┆       ┆       ┆       ┆       │\n",
      "│     ┆ 4/1 ┆ 6   ┆     ┆     ┆     ┆     ┆       ┆        ┆       ┆       ┆       ┆       ┆       │\n",
      "│     ┆ 8   ┆     ┆     ┆     ┆     ┆     ┆       ┆        ┆       ┆       ┆       ┆       ┆       │\n",
      "│ 201 ┆ 122 ┆ ACC ┆ 648 ┆ 488 ┆ 152 ┆ 8   ┆ 151   ┆ 204    ┆ 123   ┆ 62    ┆ 3     ┆ 79    ┆ 26    │\n",
      "│ 3-2 ┆ 3 P ┆ OUN ┆     ┆     ┆     ┆     ┆       ┆        ┆       ┆       ┆       ┆       ┆       │\n",
      "│ 014 ┆ 201 ┆ TIN ┆     ┆     ┆     ┆     ┆       ┆        ┆       ┆       ┆       ┆       ┆       │\n",
      "│     ┆ 3/0 ┆ G   ┆     ┆     ┆     ┆     ┆       ┆        ┆       ┆       ┆       ┆       ┆       │\n",
      "│     ┆ 8/0 ┆ CLE ┆     ┆     ┆     ┆     ┆       ┆        ┆       ┆       ┆       ┆       ┆       │\n",
      "│     ┆ 9   ┆ RK  ┆     ┆     ┆     ┆     ┆       ┆        ┆       ┆       ┆       ┆       ┆       │\n",
      "│     ┆     ┆ 122 ┆     ┆     ┆     ┆     ┆       ┆        ┆       ┆       ┆       ┆       ┆       │\n",
      "│     ┆     ┆ 3   ┆     ┆     ┆     ┆     ┆       ┆        ┆       ┆       ┆       ┆       ┆       │\n",
      "│ 201 ┆ 726 ┆ AIR ┆ 51  ┆ 13  ┆ 37  ┆ 1   ┆ 8     ┆ 12     ┆ 9     ┆ 20    ┆ 0     ┆ 0     ┆ 2     │\n",
      "│ 3-2 ┆ 0   ┆ POR ┆     ┆     ┆     ┆     ┆       ┆        ┆       ┆       ┆       ┆       ┆       │\n",
      "│ 014 ┆ OP  ┆ T   ┆     ┆     ┆     ┆     ┆       ┆        ┆       ┆       ┆       ┆       ┆       │\n",
      "│     ┆ 201 ┆ MAN ┆     ┆     ┆     ┆     ┆       ┆        ┆       ┆       ┆       ┆       ┆       │\n",
      "│     ┆ 4/0 ┆ AGE ┆     ┆     ┆     ┆     ┆       ┆        ┆       ┆       ┆       ┆       ┆       │\n",
      "│     ┆ 2/1 ┆ R   ┆     ┆     ┆     ┆     ┆       ┆        ┆       ┆       ┆       ┆       ┆       │\n",
      "│     ┆ 4   ┆ 726 ┆     ┆     ┆     ┆     ┆       ┆        ┆       ┆       ┆       ┆       ┆       │\n",
      "│     ┆     ┆ 0   ┆     ┆     ┆     ┆     ┆       ┆        ┆       ┆       ┆       ┆       ┆       │\n",
      "│ 201 ┆ 322 ┆ AIR ┆ 48  ┆ 9   ┆ 38  ┆ 1   ┆ 21    ┆ 14     ┆ 3     ┆ 7     ┆ 0     ┆ 1     ┆ 2     │\n",
      "│ 3-2 ┆ 7 P ┆ POR ┆     ┆     ┆     ┆     ┆       ┆        ┆       ┆       ┆       ┆       ┆       │\n",
      "│ 014 ┆ 201 ┆ T   ┆     ┆     ┆     ┆     ┆       ┆        ┆       ┆       ┆       ┆       ┆       │\n",
      "│     ┆ 3/1 ┆ POL ┆     ┆     ┆     ┆     ┆       ┆        ┆       ┆       ┆       ┆       ┆       │\n",
      "│     ┆ 1/1 ┆ ICE ┆     ┆     ┆     ┆     ┆       ┆        ┆       ┆       ┆       ┆       ┆       │\n",
      "│     ┆ 5   ┆ LIE ┆     ┆     ┆     ┆     ┆       ┆        ┆       ┆       ┆       ┆       ┆       │\n",
      "│     ┆     ┆ UTE ┆     ┆     ┆     ┆     ┆       ┆        ┆       ┆       ┆       ┆       ┆       │\n",
      "│     ┆     ┆ NAN ┆     ┆     ┆     ┆     ┆       ┆        ┆       ┆       ┆       ┆       ┆       │\n",
      "│     ┆     ┆ T   ┆     ┆     ┆     ┆     ┆       ┆        ┆       ┆       ┆       ┆       ┆       │\n",
      "│     ┆     ┆ 201 ┆     ┆     ┆     ┆     ┆       ┆        ┆       ┆       ┆       ┆       ┆       │\n",
      "│     ┆     ┆ 3   ┆     ┆     ┆     ┆     ┆       ┆        ┆       ┆       ┆       ┆       ┆       │\n",
      "│ 201 ┆ 240 ┆ AQU ┆ 40  ┆ 15  ┆ 24  ┆ 1   ┆ 3     ┆ 7      ┆ 7     ┆ 19    ┆ 1     ┆ 1     ┆ 2     │\n",
      "│ 3-2 ┆ 0 O ┆ ARI ┆     ┆     ┆     ┆     ┆       ┆        ┆       ┆       ┆       ┆       ┆       │\n",
      "│ 014 ┆ 201 ┆ ST  ┆     ┆     ┆     ┆     ┆       ┆        ┆       ┆       ┆       ┆       ┆       │\n",
      "│     ┆ 4/0 ┆ 240 ┆     ┆     ┆     ┆     ┆       ┆        ┆       ┆       ┆       ┆       ┆       │\n",
      "│     ┆ 5/0 ┆ 0   ┆     ┆     ┆     ┆     ┆       ┆        ┆       ┆       ┆       ┆       ┆       │\n",
      "│     ┆ 2   ┆     ┆     ┆     ┆     ┆     ┆       ┆        ┆       ┆       ┆       ┆       ┆       │\n",
      "│ …   ┆ …   ┆ …   ┆ …   ┆ …   ┆ …   ┆ …   ┆ …     ┆ …      ┆ …     ┆ …     ┆ …     ┆ …     ┆ …     │\n",
      "│ 201 ┆ 784 ┆ WAS ┆ 16  ┆ 6   ┆ 9   ┆ 1   ┆ 3     ┆ 0      ┆ 5     ┆ 7     ┆ 0     ┆ 0     ┆ 1     │\n",
      "│ 4-2 ┆ 0 P ┆ TEW ┆     ┆     ┆     ┆     ┆       ┆        ┆       ┆       ┆       ┆       ┆       │\n",
      "│ 015 ┆ 201 ┆ ATE ┆     ┆     ┆     ┆     ┆       ┆        ┆       ┆       ┆       ┆       ┆       │\n",
      "│     ┆ 4/7 ┆ R   ┆     ┆     ┆     ┆     ┆       ┆        ┆       ┆       ┆       ┆       ┆       │\n",
      "│     ┆ /25 ┆ TRE ┆     ┆     ┆     ┆     ┆       ┆        ┆       ┆       ┆       ┆       ┆       │\n",
      "│     ┆ -AR ┆ ATM ┆     ┆     ┆     ┆     ┆       ┆        ┆       ┆       ┆       ┆       ┆       │\n",
      "│     ┆ CHI ┆ ENT ┆     ┆     ┆     ┆     ┆       ┆        ┆       ┆       ┆       ┆       ┆       │\n",
      "│     ┆ VE  ┆ LAB ┆     ┆     ┆     ┆     ┆       ┆        ┆       ┆       ┆       ┆       ┆       │\n",
      "│     ┆     ┆ ORA ┆     ┆     ┆     ┆     ┆       ┆        ┆       ┆       ┆       ┆       ┆       │\n",
      "│     ┆     ┆ TOR ┆     ┆     ┆     ┆     ┆       ┆        ┆       ┆       ┆       ┆       ┆       │\n",
      "│     ┆     ┆ …   ┆     ┆     ┆     ┆     ┆       ┆        ┆       ┆       ┆       ┆       ┆       │\n",
      "│ 201 ┆ 412 ┆ WAS ┆ 125 ┆ 9   ┆ 113 ┆ 3   ┆ 29    ┆ 38     ┆ 10    ┆ 32    ┆ 7     ┆ 4     ┆ 5     │\n",
      "│ 4-2 ┆ 3 O ┆ TEW ┆     ┆     ┆     ┆     ┆       ┆        ┆       ┆       ┆       ┆       ┆       │\n",
      "│ 015 ┆ 201 ┆ ATE ┆     ┆     ┆     ┆     ┆       ┆        ┆       ┆       ┆       ┆       ┆       │\n",
      "│     ┆ 4/0 ┆ R   ┆     ┆     ┆     ┆     ┆       ┆        ┆       ┆       ┆       ┆       ┆       │\n",
      "│     ┆ 7/0 ┆ TRE ┆     ┆     ┆     ┆     ┆       ┆        ┆       ┆       ┆       ┆       ┆       │\n",
      "│     ┆ 4-A ┆ ATM ┆     ┆     ┆     ┆     ┆       ┆        ┆       ┆       ┆       ┆       ┆       │\n",
      "│     ┆ RCH ┆ ENT ┆     ┆     ┆     ┆     ┆       ┆        ┆       ┆       ┆       ┆       ┆       │\n",
      "│     ┆ IVE ┆ OPE ┆     ┆     ┆     ┆     ┆       ┆        ┆       ┆       ┆       ┆       ┆       │\n",
      "│     ┆     ┆ RAT ┆     ┆     ┆     ┆     ┆       ┆        ┆       ┆       ┆       ┆       ┆       │\n",
      "│     ┆     ┆ OR  ┆     ┆     ┆     ┆     ┆       ┆        ┆       ┆       ┆       ┆       ┆       │\n",
      "│     ┆     ┆ …   ┆     ┆     ┆     ┆     ┆       ┆        ┆       ┆       ┆       ┆       ┆       │\n",
      "│ 201 ┆ 785 ┆ WAT ┆ 179 ┆ 89  ┆ 82  ┆ 8   ┆ 13    ┆ 37     ┆ 64    ┆ 25    ┆ 0     ┆ 18    ┆ 22    │\n",
      "│ 4-2 ┆ 7 O ┆ ER  ┆     ┆     ┆     ┆     ┆       ┆        ┆       ┆       ┆       ┆       ┆       │\n",
      "│ 015 ┆ 201 ┆ MIC ┆     ┆     ┆     ┆     ┆       ┆        ┆       ┆       ┆       ┆       ┆       │\n",
      "│     ┆ 4/7 ┆ ROB ┆     ┆     ┆     ┆     ┆       ┆        ┆       ┆       ┆       ┆       ┆       │\n",
      "│     ┆ /18 ┆ IOL ┆     ┆     ┆     ┆     ┆       ┆        ┆       ┆       ┆       ┆       ┆       │\n",
      "│     ┆ -AR ┆ OGI ┆     ┆     ┆     ┆     ┆       ┆        ┆       ┆       ┆       ┆       ┆       │\n",
      "│     ┆ CHI ┆ ST  ┆     ┆     ┆     ┆     ┆       ┆        ┆       ┆       ┆       ┆       ┆       │\n",
      "│     ┆ VE  ┆ 785 ┆     ┆     ┆     ┆     ┆       ┆        ┆       ┆       ┆       ┆       ┆       │\n",
      "│     ┆     ┆ 7 - ┆     ┆     ┆     ┆     ┆       ┆        ┆       ┆       ┆       ┆       ┆       │\n",
      "│     ┆     ┆ AR… ┆     ┆     ┆     ┆     ┆       ┆        ┆       ┆       ┆       ┆       ┆       │\n",
      "│ 201 ┆ 391 ┆ WAT ┆ 96  ┆ 2   ┆ 92  ┆ 2   ┆ 8     ┆ 48     ┆ 6     ┆ 23    ┆ 1     ┆ 7     ┆ 3     │\n",
      "│ 4-2 ┆ 2/P ┆ ER  ┆     ┆     ┆     ┆     ┆       ┆        ┆       ┆       ┆       ┆       ┆       │\n",
      "│ 015 ┆ /20 ┆ UTI ┆     ┆     ┆     ┆     ┆       ┆        ┆       ┆       ┆       ┆       ┆       │\n",
      "│     ┆ 14/ ┆ LIT ┆     ┆     ┆     ┆     ┆       ┆        ┆       ┆       ┆       ┆       ┆       │\n",
      "│     ┆ 07/ ┆ Y   ┆     ┆     ┆     ┆     ┆       ┆        ┆       ┆       ┆       ┆       ┆       │\n",
      "│     ┆ 25- ┆ WOR ┆     ┆     ┆     ┆     ┆       ┆        ┆       ┆       ┆       ┆       ┆       │\n",
      "│     ┆ ARC ┆ KER ┆     ┆     ┆     ┆     ┆       ┆        ┆       ┆       ┆       ┆       ┆       │\n",
      "│     ┆ HIV ┆ 391 ┆     ┆     ┆     ┆     ┆       ┆        ┆       ┆       ┆       ┆       ┆       │\n",
      "│     ┆ E   ┆ 2 - ┆     ┆     ┆     ┆     ┆       ┆        ┆       ┆       ┆       ┆       ┆       │\n",
      "│     ┆     ┆ AR… ┆     ┆     ┆     ┆     ┆       ┆        ┆       ┆       ┆       ┆       ┆       │\n",
      "│ 201 ┆ 177 ┆ WOR ┆ 166 ┆ 100 ┆ 61  ┆ 5   ┆ 44    ┆ 61     ┆ 14    ┆ 21    ┆ 0     ┆ 11    ┆ 15    │\n",
      "│ 4-2 ┆ 4   ┆ KER ┆     ┆     ┆     ┆     ┆       ┆        ┆       ┆       ┆       ┆       ┆       │\n",
      "│ 015 ┆ OP  ┆ S'  ┆     ┆     ┆     ┆     ┆       ┆        ┆       ┆       ┆       ┆       ┆       │\n",
      "│     ┆ 201 ┆ COM ┆     ┆     ┆     ┆     ┆       ┆        ┆       ┆       ┆       ┆       ┆       │\n",
      "│     ┆ 4/7 ┆ PEN ┆     ┆     ┆     ┆     ┆       ┆        ┆       ┆       ┆       ┆       ┆       │\n",
      "│     ┆ /18 ┆ SAT ┆     ┆     ┆     ┆     ┆       ┆        ┆       ┆       ┆       ┆       ┆       │\n",
      "│     ┆ -AR ┆ ION ┆     ┆     ┆     ┆     ┆       ┆        ┆       ┆       ┆       ┆       ┆       │\n",
      "│     ┆ CHI ┆ ANA ┆     ┆     ┆     ┆     ┆       ┆        ┆       ┆       ┆       ┆       ┆       │\n",
      "│     ┆ VE  ┆ LYS ┆     ┆     ┆     ┆     ┆       ┆        ┆       ┆       ┆       ┆       ┆       │\n",
      "│     ┆     ┆ T … ┆     ┆     ┆     ┆     ┆       ┆        ┆       ┆       ┆       ┆       ┆       │\n",
      "└─────┴─────┴─────┴─────┴─────┴─────┴─────┴───────┴────────┴───────┴───────┴───────┴───────┴───────┘>\n"
     ]
    },
    {
     "data": {
      "text/plain": [
       "polars.config.Config"
      ]
     },
     "execution_count": 48,
     "metadata": {},
     "output_type": "execute_result"
    }
   ],
   "source": [
    "import polars as pl\n",
    "import matplotlib.pyplot as plt\n",
    "\n",
    "# Load job applicant csv file into dataframe\n",
    "job_applicants_df = pl.read_csv(\"Job_Applicants_by_Gender_and_Ethnicity.csv\")\n",
    "assert job_applicants_df is not None\n",
    "assert job_applicants_df.shape == (187, 14)\n",
    "print(job_applicants_df.head)\n",
    "\n",
    "pl.Config.set_tbl_cols(100)"
   ]
  },
  {
   "cell_type": "code",
   "execution_count": 49,
   "metadata": {},
   "outputs": [
    {
     "data": {
      "text/html": [
       "<div><style>\n",
       ".dataframe > thead > tr,\n",
       ".dataframe > tbody > tr {\n",
       "  text-align: right;\n",
       "  white-space: pre-wrap;\n",
       "}\n",
       "</style>\n",
       "<small>shape: (9, 9)</small><table border=\"1\" class=\"dataframe\"><thead><tr><th>statistic</th><th>Apps Received</th><th>Black</th><th>Hispanic</th><th>Asian</th><th>Caucasian</th><th>American Indian/ Alaskan Native</th><th>Filipino</th><th>Unknown_Ethnicity</th></tr><tr><td>str</td><td>f64</td><td>f64</td><td>f64</td><td>f64</td><td>f64</td><td>f64</td><td>f64</td><td>f64</td></tr></thead><tbody><tr><td>&quot;count&quot;</td><td>187.0</td><td>187.0</td><td>187.0</td><td>187.0</td><td>187.0</td><td>187.0</td><td>187.0</td><td>187.0</td></tr><tr><td>&quot;null_count&quot;</td><td>0.0</td><td>0.0</td><td>0.0</td><td>0.0</td><td>0.0</td><td>0.0</td><td>0.0</td><td>0.0</td></tr><tr><td>&quot;mean&quot;</td><td>499.721925</td><td>144.529412</td><td>182.165775</td><td>37.604278</td><td>84.470588</td><td>3.374332</td><td>19.631016</td><td>27.946524</td></tr><tr><td>&quot;std&quot;</td><td>2252.044225</td><td>948.29058</td><td>824.193375</td><td>98.941786</td><td>320.911291</td><td>14.938187</td><td>61.753827</td><td>123.897752</td></tr><tr><td>&quot;min&quot;</td><td>5.0</td><td>0.0</td><td>0.0</td><td>0.0</td><td>0.0</td><td>0.0</td><td>0.0</td><td>0.0</td></tr><tr><td>&quot;25%&quot;</td><td>38.0</td><td>5.0</td><td>10.0</td><td>3.0</td><td>9.0</td><td>0.0</td><td>1.0</td><td>2.0</td></tr><tr><td>&quot;50%&quot;</td><td>100.0</td><td>14.0</td><td>24.0</td><td>9.0</td><td>26.0</td><td>1.0</td><td>5.0</td><td>6.0</td></tr><tr><td>&quot;75%&quot;</td><td>263.0</td><td>42.0</td><td>97.0</td><td>29.0</td><td>64.0</td><td>2.0</td><td>13.0</td><td>20.0</td></tr><tr><td>&quot;max&quot;</td><td>28230.0</td><td>12618.0</td><td>10214.0</td><td>1094.0</td><td>3843.0</td><td>153.0</td><td>740.0</td><td>1475.0</td></tr></tbody></table></div>"
      ],
      "text/plain": [
       "shape: (9, 9)\n",
       "┌──────────┬──────────┬──────────┬──────────┬──────────┬──────────┬──────────┬──────────┬──────────┐\n",
       "│ statisti ┆ Apps     ┆ Black    ┆ Hispanic ┆ Asian    ┆ Caucasia ┆ American ┆ Filipino ┆ Unknown_ │\n",
       "│ c        ┆ Received ┆ ---      ┆ ---      ┆ ---      ┆ n        ┆ Indian/  ┆ ---      ┆ Ethnicit │\n",
       "│ ---      ┆ ---      ┆ f64      ┆ f64      ┆ f64      ┆ ---      ┆ Alaskan  ┆ f64      ┆ y        │\n",
       "│ str      ┆ f64      ┆          ┆          ┆          ┆ f64      ┆ Nativ…   ┆          ┆ ---      │\n",
       "│          ┆          ┆          ┆          ┆          ┆          ┆ ---      ┆          ┆ f64      │\n",
       "│          ┆          ┆          ┆          ┆          ┆          ┆ f64      ┆          ┆          │\n",
       "╞══════════╪══════════╪══════════╪══════════╪══════════╪══════════╪══════════╪══════════╪══════════╡\n",
       "│ count    ┆ 187.0    ┆ 187.0    ┆ 187.0    ┆ 187.0    ┆ 187.0    ┆ 187.0    ┆ 187.0    ┆ 187.0    │\n",
       "│ null_cou ┆ 0.0      ┆ 0.0      ┆ 0.0      ┆ 0.0      ┆ 0.0      ┆ 0.0      ┆ 0.0      ┆ 0.0      │\n",
       "│ nt       ┆          ┆          ┆          ┆          ┆          ┆          ┆          ┆          │\n",
       "│ mean     ┆ 499.7219 ┆ 144.5294 ┆ 182.1657 ┆ 37.60427 ┆ 84.47058 ┆ 3.374332 ┆ 19.63101 ┆ 27.94652 │\n",
       "│          ┆ 25       ┆ 12       ┆ 75       ┆ 8        ┆ 8        ┆          ┆ 6        ┆ 4        │\n",
       "│ std      ┆ 2252.044 ┆ 948.2905 ┆ 824.1933 ┆ 98.94178 ┆ 320.9112 ┆ 14.93818 ┆ 61.75382 ┆ 123.8977 │\n",
       "│          ┆ 225      ┆ 8        ┆ 75       ┆ 6        ┆ 91       ┆ 7        ┆ 7        ┆ 52       │\n",
       "│ min      ┆ 5.0      ┆ 0.0      ┆ 0.0      ┆ 0.0      ┆ 0.0      ┆ 0.0      ┆ 0.0      ┆ 0.0      │\n",
       "│ 25%      ┆ 38.0     ┆ 5.0      ┆ 10.0     ┆ 3.0      ┆ 9.0      ┆ 0.0      ┆ 1.0      ┆ 2.0      │\n",
       "│ 50%      ┆ 100.0    ┆ 14.0     ┆ 24.0     ┆ 9.0      ┆ 26.0     ┆ 1.0      ┆ 5.0      ┆ 6.0      │\n",
       "│ 75%      ┆ 263.0    ┆ 42.0     ┆ 97.0     ┆ 29.0     ┆ 64.0     ┆ 2.0      ┆ 13.0     ┆ 20.0     │\n",
       "│ max      ┆ 28230.0  ┆ 12618.0  ┆ 10214.0  ┆ 1094.0   ┆ 3843.0   ┆ 153.0    ┆ 740.0    ┆ 1475.0   │\n",
       "└──────────┴──────────┴──────────┴──────────┴──────────┴──────────┴──────────┴──────────┴──────────┘"
      ]
     },
     "execution_count": 49,
     "metadata": {},
     "output_type": "execute_result"
    }
   ],
   "source": [
    "# Generate a summary of statistics\n",
    "def stats_overview(df):\n",
    "    summary_stats = df.select(\n",
    "        [\n",
    "            \"Apps Received\",\n",
    "            \"Black\",\n",
    "            \"Hispanic\",\n",
    "            \"Asian\",\n",
    "            \"Caucasian\",\n",
    "            \"American Indian/ Alaskan Native\",\n",
    "            \"Filipino\",\n",
    "            \"Unknown_Ethnicity\",\n",
    "        ]\n",
    "    ).describe()\n",
    "    return summary_stats\n",
    "\n",
    "\n",
    "stats_overview(job_applicants_df)"
   ]
  },
  {
   "cell_type": "code",
   "execution_count": 50,
   "metadata": {},
   "outputs": [
    {
     "data": {
      "text/html": [
       "<div><style>\n",
       ".dataframe > thead > tr,\n",
       ".dataframe > tbody > tr {\n",
       "  text-align: right;\n",
       "  white-space: pre-wrap;\n",
       "}\n",
       "</style>\n",
       "<small>shape: (1, 9)</small><table border=\"1\" class=\"dataframe\"><thead><tr><th>statistic</th><th>Apps Received</th><th>Black</th><th>Hispanic</th><th>Asian</th><th>Caucasian</th><th>American Indian/ Alaskan Native</th><th>Filipino</th><th>Unknown_Ethnicity</th></tr><tr><td>str</td><td>i64</td><td>i64</td><td>i64</td><td>i64</td><td>i64</td><td>i64</td><td>i64</td><td>i64</td></tr></thead><tbody><tr><td>&quot;total&quot;</td><td>93448</td><td>27027</td><td>34065</td><td>7032</td><td>15796</td><td>631</td><td>3671</td><td>5226</td></tr></tbody></table></div>"
      ],
      "text/plain": [
       "shape: (1, 9)\n",
       "┌───────────┬────────────┬───────┬──────────┬───────┬───────────┬───────────┬──────────┬───────────┐\n",
       "│ statistic ┆ Apps       ┆ Black ┆ Hispanic ┆ Asian ┆ Caucasian ┆ American  ┆ Filipino ┆ Unknown_E │\n",
       "│ ---       ┆ Received   ┆ ---   ┆ ---      ┆ ---   ┆ ---       ┆ Indian/   ┆ ---      ┆ thnicity  │\n",
       "│ str       ┆ ---        ┆ i64   ┆ i64      ┆ i64   ┆ i64       ┆ Alaskan   ┆ i64      ┆ ---       │\n",
       "│           ┆ i64        ┆       ┆          ┆       ┆           ┆ Nativ…    ┆          ┆ i64       │\n",
       "│           ┆            ┆       ┆          ┆       ┆           ┆ ---       ┆          ┆           │\n",
       "│           ┆            ┆       ┆          ┆       ┆           ┆ i64       ┆          ┆           │\n",
       "╞═══════════╪════════════╪═══════╪══════════╪═══════╪═══════════╪═══════════╪══════════╪═══════════╡\n",
       "│ total     ┆ 93448      ┆ 27027 ┆ 34065    ┆ 7032  ┆ 15796     ┆ 631       ┆ 3671     ┆ 5226      │\n",
       "└───────────┴────────────┴───────┴──────────┴───────┴───────────┴───────────┴──────────┴───────────┘"
      ]
     },
     "execution_count": 50,
     "metadata": {},
     "output_type": "execute_result"
    }
   ],
   "source": [
    "# Generate a table showing the total number of applicants by ethnicity\n",
    "def total_and_eth_value(df):\n",
    "    total_and_eth = df.select(\n",
    "        [\n",
    "            pl.sum(\"Apps Received\").alias(\"Apps Received\"),\n",
    "            pl.sum(\"Black\").alias(\"Black\"),\n",
    "            pl.sum(\"Hispanic\").alias(\"Hispanic\"),\n",
    "            pl.sum(\"Asian\").alias(\"Asian\"),\n",
    "            pl.sum(\"Caucasian\").alias(\"Caucasian\"),\n",
    "            pl.sum(\"American Indian/ Alaskan Native\").alias(\n",
    "                \"American Indian/ Alaskan Native\"\n",
    "            ),\n",
    "            pl.sum(\"Filipino\").alias(\"Filipino\"),\n",
    "            pl.sum(\"Unknown_Ethnicity\").alias(\"Unknown_Ethnicity\"),\n",
    "        ]\n",
    "    )\n",
    "\n",
    "    # Add a row name for the total row\n",
    "    total_and_eth = total_and_eth.with_columns(pl.lit(\"total\").alias(\"statistic\"))\n",
    "    total_by_value = total_and_eth.select(\n",
    "        [\"statistic\"] + [col for col in total_and_eth.columns if col != \"statistic\"]\n",
    "    )\n",
    "    return total_by_value\n",
    "\n",
    "\n",
    "total_and_eth_value(job_applicants_df)"
   ]
  },
  {
   "cell_type": "code",
   "execution_count": 51,
   "metadata": {},
   "outputs": [
    {
     "data": {
      "image/png": "[encoded data removed]",
      "text/plain": [
       "<Figure size 640x480 with 1 Axes>"
      ]
     },
     "metadata": {},
     "output_type": "display_data"
    },
    {
     "data": {
      "text/plain": [
       "<function __main__.eth_chart(df)>"
      ]
     },
     "execution_count": 51,
     "metadata": {},
     "output_type": "execute_result"
    }
   ],
   "source": [
    "# calculate total number of applicants by ethinicity, for plotting\n",
    "def ethnicity_total(df):\n",
    "    eth_total = df[\n",
    "        [\n",
    "            \"Black\",\n",
    "            \"Hispanic\",\n",
    "            \"Asian\",\n",
    "            \"Caucasian\",\n",
    "            \"American Indian/ Alaskan Native\",\n",
    "            \"Filipino\",\n",
    "            \"Unknown_Ethnicity\",\n",
    "        ]\n",
    "    ].sum()\n",
    "    return eth_total\n",
    "\n",
    "\n",
    "# visualize the total number of applicants by ethnicity\n",
    "def eth_chart(df):\n",
    "    eth_and_total = ethnicity_total(df)\n",
    "    eth_and_total = eth_and_total.to_pandas()\n",
    "    eth_and_total.plot(kind=\"bar\", stacked=False, title=\"Number of Applicants\")\n",
    "    plt.xlabel(\"Ethnicity\")\n",
    "    plt.ylabel(\"Number of Applicants\")\n",
    "    plt.show()\n",
    "    return eth_chart\n",
    "\n",
    "\n",
    "ethnicity_total(job_applicants_df)\n",
    "eth_chart(job_applicants_df)"
   ]
  }
 ],
 "metadata": {
  "kernelspec": {
   "display_name": "base",
   "language": "python",
   "name": "python3"
  },
  "language_info": {
   "codemirror_mode": {
    "name": "ipython",
    "version": 3
   },
   "file_extension": ".py",
   "mimetype": "text/x-python",
   "name": "python",
   "nbconvert_exporter": "python",
   "pygments_lexer": "ipython3",
   "version": "3.12.5"
  }
 },
 "nbformat": 4,
 "nbformat_minor": 2
}
